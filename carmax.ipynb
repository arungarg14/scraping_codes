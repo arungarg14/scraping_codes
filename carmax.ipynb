{
 "cells": [
  {
   "cell_type": "code",
   "execution_count": null,
   "metadata": {},
   "outputs": [],
   "source": [
    "from selenium import webdriver\n",
    "import time\n",
    "\n",
    "\n",
    "import pdb\n"
   ]
  },
  {
   "cell_type": "code",
   "execution_count": null,
   "metadata": {},
   "outputs": [],
   "source": [
    "driver = webdriver.Firefox(executable_path=\"C:\\Drivers\\geckodriver.exe\")\n",
    "driver.maximize_window()"
   ]
  },
  {
   "cell_type": "code",
   "execution_count": null,
   "metadata": {},
   "outputs": [],
   "source": [
    "driver.get(\"https://www.carmax.com/cars/all\")\n",
    "driver.set_page_load_timeout(200)   "
   ]
  },
  {
   "cell_type": "code",
   "execution_count": null,
   "metadata": {},
   "outputs": [],
   "source": [
    "https://img2.carmax.com/img/vehicles/19300742/1.jpg?width=1600&ratio=source"
   ]
  },
  {
   "cell_type": "code",
   "execution_count": null,
   "metadata": {},
   "outputs": [],
   "source": []
  },
  {
   "cell_type": "code",
   "execution_count": null,
   "metadata": {},
   "outputs": [],
   "source": [
    "for i in range(0, len(links)):\n",
    "    print(links[i])"
   ]
  },
  {
   "cell_type": "code",
   "execution_count": null,
   "metadata": {},
   "outputs": [],
   "source": [
    "#https://img2.carmax.com/img/vehicles/19300742/1/800.jpg\n",
    "#https://img2.carmax.com/img/vehicles/19300742/1.jpg?width=1600&ratio=source\n",
    "\n",
    "\n"
   ]
  },
  {
   "cell_type": "code",
   "execution_count": null,
   "metadata": {},
   "outputs": [],
   "source": [
    "#################### Code is from here ######################################################################"
   ]
  },
  {
   "cell_type": "code",
   "execution_count": 1,
   "metadata": {},
   "outputs": [],
   "source": [
    "import urllib\n",
    "import urllib.request\n",
    "import os\n",
    "\n",
    "import ssl\n",
    "ssl._create_default_https_context = ssl._create_unverified_context"
   ]
  },
  {
   "cell_type": "code",
   "execution_count": null,
   "metadata": {},
   "outputs": [],
   "source": [
    "count = 1\n",
    "p = 1\n",
    "#attempt to 10,000 folders\n",
    "sku = 19190000\n",
    "for i in range(0, 10000):  \n",
    "    main_string = 'https://img2.carmax.com/img/vehicles/' + str(sku) + '/' \n",
    "    sku = sku + 1\n",
    "    directory  = str(count)\n",
    "    download_folder_path = \"C:/ouput/models/cars/\"\n",
    "    path = os.path.join(download_folder_path, directory)\n",
    "    os.mkdir(path)\n",
    "    \n",
    "    count = count + 1\n",
    "    inner_count=1\n",
    "    for j in range(1,8):\n",
    "        result_string = main_string + str(j) + '.jpg?width=1600&ratio=source'\n",
    "        filename= str(p)\n",
    "        \n",
    "        if (inner_count==3):\n",
    "            break\n",
    "        try:\n",
    "            imagefile = open(path + '/' + filename + \".jpg\", 'wb')\n",
    "            imagefile.write(urllib.request.urlopen(result_string).read())\n",
    "            p = p + 1\n",
    "            imagefile.close()\n",
    "        except:\n",
    "            inner_count = inner_count + 1\n",
    "        \n",
    "        \n",
    "        "
   ]
  },
  {
   "cell_type": "code",
   "execution_count": null,
   "metadata": {},
   "outputs": [],
   "source": [
    "print(19190000+9999)"
   ]
  }
 ],
 "metadata": {
  "kernelspec": {
   "display_name": "Python 3",
   "language": "python",
   "name": "python3"
  },
  "language_info": {
   "codemirror_mode": {
    "name": "ipython",
    "version": 3
   },
   "file_extension": ".py",
   "mimetype": "text/x-python",
   "name": "python",
   "nbconvert_exporter": "python",
   "pygments_lexer": "ipython3",
   "version": "3.6.12"
  }
 },
 "nbformat": 4,
 "nbformat_minor": 4
}
