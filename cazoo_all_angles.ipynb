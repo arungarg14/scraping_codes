{
 "cells": [
  {
   "cell_type": "code",
   "execution_count": null,
   "metadata": {},
   "outputs": [],
   "source": [
    "from bs4 import BeautifulSoup\n",
    "import urllib\n",
    "import urllib.request\n",
    "import requests\n",
    "from selenium import webdriver\n",
    "import time\n",
    "import ssl\n",
    "ssl._create_default_https_context = ssl._create_unverified_context"
   ]
  },
  {
   "cell_type": "code",
   "execution_count": null,
   "metadata": {},
   "outputs": [],
   "source": [
    "main_list=[]"
   ]
  },
  {
   "cell_type": "code",
   "execution_count": null,
   "metadata": {},
   "outputs": [],
   "source": [
    "for initial in range(0,20):  \n",
    "    print(initial)\n",
    "    no = str(initial+1) + '/'\n",
    "    link = 'https://www.cazoo.co.uk/used-cars/?page=' + no\n",
    "    req = requests.get(link)\n",
    "    soup = BeautifulSoup(req.text, \"html.parser\")\n",
    "    \n",
    "    for img in soup.findAll('a'):\n",
    "        temp= img.get('href')\n",
    "        temp=str(temp)\n",
    "        if temp[:1] == '/':\n",
    "            image = \"https://www.cazoo.co.uk\" + temp\n",
    "            if '/used-car/' in image:\n",
    "                main_list.append(image)\n",
    "    print(len(main_list))"
   ]
  },
  {
   "cell_type": "code",
   "execution_count": null,
   "metadata": {},
   "outputs": [],
   "source": [
    "main_list = set(main_list)\n",
    "main_list = list(main_list)\n",
    "print(len(main_list))"
   ]
  },
  {
   "cell_type": "code",
   "execution_count": null,
   "metadata": {},
   "outputs": [],
   "source": [
    "#executable_path=\"C:\\Drivers\\geckodriver.exe\"\n",
    "driver = webdriver.Firefox(executable_path=\"/home/arun/Drivers/FirefoxLinux/geckodriver\")\n",
    "driver.maximize_window()\n",
    "driver.set_page_load_timeout(200)"
   ]
  },
  {
   "cell_type": "code",
   "execution_count": null,
   "metadata": {},
   "outputs": [],
   "source": [
    "#len(main_list)\n",
    "count=1\n",
    "for initial in range(0, 1):\n",
    "    driver.get(main_list[initial])\n",
    "    time.sleep(1)\n",
    "    link_tags = driver.find_elements_by_class_name('gallery-triggersstyles__Button-sc-1k21rjf-0')\n",
    "    for tag in link_tags:\n",
    "        if tag.get_attribute('data-test-id') == '360-gallery-trigger':\n",
    "            tag.click()\n",
    "            time.sleep(2)\n",
    "            break\n",
    "    images = driver.find_elements_by_tag_name('img')\n",
    "    if (len(images)<20):\n",
    "        time.sleep(5)\n",
    "        images = driver.find_elements_by_tag_name('img')\n",
    "        \n",
    "    directory  = str(count) \n",
    "        \n",
    "    download_folder_path = \"C:/ouput/models/women-footwear/\" \n",
    "    path = os.path.join(download_folder_path, directory)\n",
    "        \n",
    "    os.mkdir(path)\n",
    "    count = count + 1\n",
    "    for img in images:\n",
    "        image = img.get_attribute('src')\n",
    "        if \"https://res.cloudinary.com/cazoo/image/upload/\" in image:\n",
    "            filename=str(image[-6:-4])\n",
    "            print(filename)\n",
    "            try:\n",
    "                imagefile = open(path + '/' + filename + \".jpg\", 'wb')\n",
    "                imagefile.write(urllib.request.urlopen(image).read())\n",
    "                imagefile.close()\n",
    "            except:\n",
    "                continue"
   ]
  },
  {
   "cell_type": "markdown",
   "metadata": {},
   "source": [
    "# End"
   ]
  },
  {
   "cell_type": "code",
   "execution_count": null,
   "metadata": {},
   "outputs": [],
   "source": []
  }
 ],
 "metadata": {
  "kernelspec": {
   "display_name": "Python 3",
   "language": "python",
   "name": "python3"
  },
  "language_info": {
   "codemirror_mode": {
    "name": "ipython",
    "version": 3
   },
   "file_extension": ".py",
   "mimetype": "text/x-python",
   "name": "python",
   "nbconvert_exporter": "python",
   "pygments_lexer": "ipython3",
   "version": "3.6.12"
  }
 },
 "nbformat": 4,
 "nbformat_minor": 4
}
